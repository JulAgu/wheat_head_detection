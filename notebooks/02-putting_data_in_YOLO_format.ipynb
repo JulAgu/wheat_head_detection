{
 "cells": [
  {
   "cell_type": "code",
   "execution_count": 6,
   "metadata": {},
   "outputs": [],
   "source": [
    "import pandas as pd\n",
    "from PIL import Image"
   ]
  },
  {
   "cell_type": "code",
   "execution_count": 7,
   "metadata": {},
   "outputs": [],
   "source": [
    "data = pd.read_csv(\"../dataset/competition_train.csv\")"
   ]
  },
  {
   "cell_type": "code",
   "execution_count": 8,
   "metadata": {},
   "outputs": [
    {
     "data": {
      "text/html": [
       "<div>\n",
       "<style scoped>\n",
       "    .dataframe tbody tr th:only-of-type {\n",
       "        vertical-align: middle;\n",
       "    }\n",
       "\n",
       "    .dataframe tbody tr th {\n",
       "        vertical-align: top;\n",
       "    }\n",
       "\n",
       "    .dataframe thead th {\n",
       "        text-align: right;\n",
       "    }\n",
       "</style>\n",
       "<table border=\"1\" class=\"dataframe\">\n",
       "  <thead>\n",
       "    <tr style=\"text-align: right;\">\n",
       "      <th></th>\n",
       "      <th>image_name</th>\n",
       "      <th>BoxesString</th>\n",
       "      <th>domain</th>\n",
       "    </tr>\n",
       "  </thead>\n",
       "  <tbody>\n",
       "    <tr>\n",
       "      <th>0</th>\n",
       "      <td>4563856cc6d75c670eafd86d5eb7245fbe8f273c28f9e3...</td>\n",
       "      <td>99 692 160 764;641 27 697 115;935 978 1012 102...</td>\n",
       "      <td>Arvalis_1</td>\n",
       "    </tr>\n",
       "    <tr>\n",
       "      <th>1</th>\n",
       "      <td>a2a15938845d9812de03bd44799c4b1bf856a8ad11752e...</td>\n",
       "      <td>230 143 321 222;928 929 1015 1004;485 557 604 ...</td>\n",
       "      <td>Arvalis_1</td>\n",
       "    </tr>\n",
       "    <tr>\n",
       "      <th>2</th>\n",
       "      <td>401f89a2bb6ab63e3f406bd59b9cadccfe953230feb6cd...</td>\n",
       "      <td>440 239 544 288;333 538 429 594;913 171 963 20...</td>\n",
       "      <td>Arvalis_1</td>\n",
       "    </tr>\n",
       "    <tr>\n",
       "      <th>3</th>\n",
       "      <td>0a3937653483c36dfb4d957b6f82ae96dbdc7ba36cc3d8...</td>\n",
       "      <td>112 274 188 303;892 812 958 847;0 889 67 928;1...</td>\n",
       "      <td>Arvalis_1</td>\n",
       "    </tr>\n",
       "    <tr>\n",
       "      <th>4</th>\n",
       "      <td>be1652110a44acd24b42784356e965ce84a04893c3f1bb...</td>\n",
       "      <td>810 204 863 314;360 231 425 408;452 348 510 47...</td>\n",
       "      <td>Arvalis_1</td>\n",
       "    </tr>\n",
       "    <tr>\n",
       "      <th>...</th>\n",
       "      <td>...</td>\n",
       "      <td>...</td>\n",
       "      <td>...</td>\n",
       "    </tr>\n",
       "    <tr>\n",
       "      <th>3652</th>\n",
       "      <td>aa8967fdf620ab4d7b6ff75531ad37cf16a5f5deca131d...</td>\n",
       "      <td>53 81 175 142;0 0 100 129;0 0 42 77;144 0 250 ...</td>\n",
       "      <td>ULiège-GxABT_1</td>\n",
       "    </tr>\n",
       "    <tr>\n",
       "      <th>3653</th>\n",
       "      <td>4bfbbdac0fd5c16db471aa3dcfa20e6b2bbd60230b1969...</td>\n",
       "      <td>5 0 62 85;46 0 92 24;82 9 159 146;48 74 301 20...</td>\n",
       "      <td>ULiège-GxABT_1</td>\n",
       "    </tr>\n",
       "    <tr>\n",
       "      <th>3654</th>\n",
       "      <td>cd4a7c09f3b6832278f24d30b9143718dfde8998f2da78...</td>\n",
       "      <td>200 105 345 358;144 128 280 316;276 0 360 108;...</td>\n",
       "      <td>ULiège-GxABT_1</td>\n",
       "    </tr>\n",
       "    <tr>\n",
       "      <th>3655</th>\n",
       "      <td>3362115207dbd2b1e28cb22b14eb910a0cb1068c7e47b7...</td>\n",
       "      <td>0 0 214 84;0 114 57 170;0 322 24 367;56 382 16...</td>\n",
       "      <td>ULiège-GxABT_1</td>\n",
       "    </tr>\n",
       "    <tr>\n",
       "      <th>3656</th>\n",
       "      <td>de85de89b3969fc6eb97d0c83299ad725a52595bde4533...</td>\n",
       "      <td>98 0 158 41;0 0 42 49;0 78 26 143;324 86 374 1...</td>\n",
       "      <td>ULiège-GxABT_1</td>\n",
       "    </tr>\n",
       "  </tbody>\n",
       "</table>\n",
       "<p>3657 rows × 3 columns</p>\n",
       "</div>"
      ],
      "text/plain": [
       "                                             image_name  \\\n",
       "0     4563856cc6d75c670eafd86d5eb7245fbe8f273c28f9e3...   \n",
       "1     a2a15938845d9812de03bd44799c4b1bf856a8ad11752e...   \n",
       "2     401f89a2bb6ab63e3f406bd59b9cadccfe953230feb6cd...   \n",
       "3     0a3937653483c36dfb4d957b6f82ae96dbdc7ba36cc3d8...   \n",
       "4     be1652110a44acd24b42784356e965ce84a04893c3f1bb...   \n",
       "...                                                 ...   \n",
       "3652  aa8967fdf620ab4d7b6ff75531ad37cf16a5f5deca131d...   \n",
       "3653  4bfbbdac0fd5c16db471aa3dcfa20e6b2bbd60230b1969...   \n",
       "3654  cd4a7c09f3b6832278f24d30b9143718dfde8998f2da78...   \n",
       "3655  3362115207dbd2b1e28cb22b14eb910a0cb1068c7e47b7...   \n",
       "3656  de85de89b3969fc6eb97d0c83299ad725a52595bde4533...   \n",
       "\n",
       "                                            BoxesString          domain  \n",
       "0     99 692 160 764;641 27 697 115;935 978 1012 102...       Arvalis_1  \n",
       "1     230 143 321 222;928 929 1015 1004;485 557 604 ...       Arvalis_1  \n",
       "2     440 239 544 288;333 538 429 594;913 171 963 20...       Arvalis_1  \n",
       "3     112 274 188 303;892 812 958 847;0 889 67 928;1...       Arvalis_1  \n",
       "4     810 204 863 314;360 231 425 408;452 348 510 47...       Arvalis_1  \n",
       "...                                                 ...             ...  \n",
       "3652  53 81 175 142;0 0 100 129;0 0 42 77;144 0 250 ...  ULiège-GxABT_1  \n",
       "3653  5 0 62 85;46 0 92 24;82 9 159 146;48 74 301 20...  ULiège-GxABT_1  \n",
       "3654  200 105 345 358;144 128 280 316;276 0 360 108;...  ULiège-GxABT_1  \n",
       "3655  0 0 214 84;0 114 57 170;0 322 24 367;56 382 16...  ULiège-GxABT_1  \n",
       "3656  98 0 158 41;0 0 42 49;0 78 26 143;324 86 374 1...  ULiège-GxABT_1  \n",
       "\n",
       "[3657 rows x 3 columns]"
      ]
     },
     "execution_count": 8,
     "metadata": {},
     "output_type": "execute_result"
    }
   ],
   "source": [
    "data"
   ]
  },
  {
   "cell_type": "code",
   "execution_count": 29,
   "metadata": {},
   "outputs": [],
   "source": [
    "def to_yolo_format(row):\n",
    "    # The return going to be :\n",
    "    # [[image_name, class, x_center, y_center, width, height]\n",
    "    #  [image_name, class, x_center, y_center, width, height]\n",
    "    # ........\n",
    "    #  [image_name, class, x_center, y_center, width, height]]\n",
    "\n",
    "    img = Image.open(f\"../dataset/images/{row['image_name']}\")\n",
    "    w = img.width\n",
    "    h = img.height\n",
    "    if row['BoxesString'] == 'no_box':\n",
    "        pass\n",
    "    else:\n",
    "        matrice_list = []\n",
    "        for i in row['BoxesString'].split(';'):\n",
    "            x_min, y_min, x_max, y_max = i.split(' ')\n",
    "            x_min, y_min, x_max, y_max = int(x_min)/h, int(y_min)/h, int(x_max)/w, int(y_max)/w\n",
    "            line_list = [row['image_name'], 0, (x_min + x_max)/2, (y_min + y_max)/2, x_max - x_min, y_max - y_min]\n",
    "            matrice_list.append(line_list)\n",
    "        return matrice_list\n",
    "\n",
    "        "
   ]
  },
  {
   "cell_type": "code",
   "execution_count": null,
   "metadata": {},
   "outputs": [],
   "source": [
    "matrice = data.apply(to_yolo_format, axis=1)"
   ]
  },
  {
   "cell_type": "code",
   "execution_count": 37,
   "metadata": {},
   "outputs": [
    {
     "data": {
      "text/plain": [
       "(3657, 3)"
      ]
     },
     "execution_count": 37,
     "metadata": {},
     "output_type": "execute_result"
    }
   ],
   "source": [
    "data.shape"
   ]
  },
  {
   "cell_type": "code",
   "execution_count": 39,
   "metadata": {},
   "outputs": [],
   "source": [
    "matrice = matrice.dropna()"
   ]
  },
  {
   "cell_type": "code",
   "execution_count": 45,
   "metadata": {},
   "outputs": [],
   "source": [
    "for image in matrice:\n",
    "    # create a .txt file with the same name as the image\n",
    "    with open(f\"../dataset/test/{image[0][0][:-4]}.txt\", \"w\") as f:\n",
    "        for box in image:\n",
    "            f.write(f\"{box[1]} {box[2]} {box[3]} {box[4]} {box[5]}\\n\")\n",
    "            "
   ]
  }
 ],
 "metadata": {
  "kernelspec": {
   "display_name": "wheat_head",
   "language": "python",
   "name": "python3"
  },
  "language_info": {
   "codemirror_mode": {
    "name": "ipython",
    "version": 3
   },
   "file_extension": ".py",
   "mimetype": "text/x-python",
   "name": "python",
   "nbconvert_exporter": "python",
   "pygments_lexer": "ipython3",
   "version": "3.10.15"
  }
 },
 "nbformat": 4,
 "nbformat_minor": 2
}
